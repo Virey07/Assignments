{
 "cells": [
  {
   "cell_type": "markdown",
   "id": "52eae5fe",
   "metadata": {},
   "source": [
    "#### 1.1 Write a Python Program(with class concepts) to find the area of the triangle using the below formula.\n",
    "#### area = (s*(s-a)*(s-b)*(s-c)) * * 0.5\n",
    "#### Function to take the length of the sides of triangle from user should be defined in the parent class and function to calculate the area should be defined in subclass."
   ]
  },
  {
   "cell_type": "code",
   "execution_count": 1,
   "id": "6efa573e",
   "metadata": {},
   "outputs": [],
   "source": [
    "class Triangle:\n",
    "    def __init__(self,A,B,C):\n",
    "        self.A = A\n",
    "        self.B = B\n",
    "        self.C = C\n",
    "        print(\"Sides of the triangle A,B,C are\",str(self.A)+\",\",str(self.B)+\",\",str(self.C),\"respectively.\")\n",
    "\n",
    "class abc(Triangle):\n",
    "        def __init__(self,A,B,C):\n",
    "            super().__init__(A,B,C)\n",
    "        def area(self):\n",
    "            s = (self.A+self.B+self.C)/2\n",
    "            print(\"s = \",str(s))\n",
    "            print(\"The Area of the triangle is:-\",str((s*(s-self.A)*(s-self.B)*(s-self.C)) ** 0.5)) "
   ]
  },
  {
   "cell_type": "code",
   "execution_count": 2,
   "id": "03430c6f",
   "metadata": {},
   "outputs": [
    {
     "name": "stdout",
     "output_type": "stream",
     "text": [
      "Sides of the triangle A,B,C are 14, 25, 30 respectively.\n",
      "s =  34.5\n",
      "The Area of the triangle is:- 173.88196427461935\n"
     ]
    }
   ],
   "source": [
    "abhi = abc(14,25,30)\n",
    "abhi.area()"
   ]
  },
  {
   "cell_type": "markdown",
   "id": "accc8304",
   "metadata": {},
   "source": [
    "#### 1.2 Write a function filter_long_words() that takes a list of words and an integer n and returns the list of words that are longer than n."
   ]
  },
  {
   "cell_type": "code",
   "execution_count": 16,
   "id": "e08cae64",
   "metadata": {},
   "outputs": [],
   "source": [
    "def filter_long_words(string,number):\n",
    "    for i in range(len(string)):\n",
    "        listwords=[]\n",
    "        if len(string[i]) > number:\n",
    "            listwords.append(string[i])\n",
    "        \n",
    "        return listwords"
   ]
  },
  {
   "cell_type": "code",
   "execution_count": 22,
   "id": "3153878a",
   "metadata": {},
   "outputs": [
    {
     "data": {
      "text/plain": [
       "['Computer']"
      ]
     },
     "execution_count": 22,
     "metadata": {},
     "output_type": "execute_result"
    }
   ],
   "source": [
    "filter_long_words([\"Computer\",\"mouse\",\"pendrive\"],5)"
   ]
  },
  {
   "cell_type": "code",
   "execution_count": null,
   "id": "801445f9",
   "metadata": {},
   "outputs": [],
   "source": []
  },
  {
   "cell_type": "code",
   "execution_count": null,
   "id": "a57c7991",
   "metadata": {},
   "outputs": [],
   "source": []
  }
 ],
 "metadata": {
  "kernelspec": {
   "display_name": "Python 3",
   "language": "python",
   "name": "python3"
  },
  "language_info": {
   "codemirror_mode": {
    "name": "ipython",
    "version": 3
   },
   "file_extension": ".py",
   "mimetype": "text/x-python",
   "name": "python",
   "nbconvert_exporter": "python",
   "pygments_lexer": "ipython3",
   "version": "3.8.8"
  }
 },
 "nbformat": 4,
 "nbformat_minor": 5
}
