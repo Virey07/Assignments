{
 "cells": [
  {
   "cell_type": "markdown",
   "id": "ee292483",
   "metadata": {},
   "source": [
    "#### 1. Write a function to compute 5/0 and use try/except to catch the exceptions."
   ]
  },
  {
   "cell_type": "code",
   "execution_count": 7,
   "id": "4e745da5",
   "metadata": {},
   "outputs": [
    {
     "name": "stdout",
     "output_type": "stream",
     "text": [
      "Enter a number: 5\n",
      "Enter a number: 0\n",
      "5 divided by zero is undefined.\n"
     ]
    }
   ],
   "source": [
    "try:\n",
    "    a = int(input(\"Enter a number: \"))\n",
    "    b = int(input(\"Enter a number: \"))\n",
    "    if b == 0:\n",
    "            print(\"%d divided by zero is undefined.\"%(a))\n",
    "    else:\n",
    "        c = a/b\n",
    "        print(c)\n",
    "except:\n",
    "    print(\"invalid code\")"
   ]
  },
  {
   "attachments": {},
   "cell_type": "markdown",
   "id": "125ccb6a",
   "metadata": {},
   "source": [
    "#### 2. Implement a Python program to generate all sentences where subject is in [\"Americans\", \"Indians\"] and verb is in [\"Play\", \"watch\"] and the object is in [\"Baseball\",\"cricket\"]."
   ]
  },
  {
   "cell_type": "code",
   "execution_count": 9,
   "id": "65916a50",
   "metadata": {},
   "outputs": [
    {
     "name": "stdout",
     "output_type": "stream",
     "text": [
      "Americans play Baseball.\n",
      "Americans play Cricket.\n",
      "Americans watch Baseball.\n",
      "Americans watch Cricket.\n",
      "Indians play Baseball.\n",
      "Indians play Cricket.\n",
      "Indians watch Baseball.\n",
      "Indians watch Cricket.\n"
     ]
    }
   ],
   "source": [
    "subjects = [\"Americans\",\"Indians\"]\n",
    "verbs = [\"play\",\"watch\"]\n",
    "objects = [\"Baseball\",\"Cricket\"]\n",
    "\n",
    "for i in subjects:\n",
    "    for j in verbs:\n",
    "        for k in objects:\n",
    "            print(i+\" \"+j+\" \"+k+\".\")"
   ]
  },
  {
   "cell_type": "code",
   "execution_count": null,
   "id": "771f04d7",
   "metadata": {},
   "outputs": [],
   "source": []
  },
  {
   "cell_type": "code",
   "execution_count": null,
   "id": "40be1b03",
   "metadata": {},
   "outputs": [],
   "source": []
  }
 ],
 "metadata": {
  "kernelspec": {
   "display_name": "Python 3",
   "language": "python",
   "name": "python3"
  },
  "language_info": {
   "codemirror_mode": {
    "name": "ipython",
    "version": 3
   },
   "file_extension": ".py",
   "mimetype": "text/x-python",
   "name": "python",
   "nbconvert_exporter": "python",
   "pygments_lexer": "ipython3",
   "version": "3.8.8"
  }
 },
 "nbformat": 4,
 "nbformat_minor": 5
}
