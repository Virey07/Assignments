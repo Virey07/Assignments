{
 "cells": [
  {
   "cell_type": "markdown",
   "id": "dbd681be",
   "metadata": {},
   "source": [
    "#### 1.1 Write a Python Program to implement your own myreduce() function which works exactly like Python's built-in function reduce()"
   ]
  },
  {
   "cell_type": "code",
   "execution_count": 1,
   "id": "be36f8b3",
   "metadata": {},
   "outputs": [
    {
     "name": "stdout",
     "output_type": "stream",
     "text": [
      "Enter a number: 12\n",
      "The list of natural numbers:  [1, 2, 3, 4, 5, 6, 7, 8, 9, 10, 11, 12]\n",
      "The sum of the natural numbers in the list:  78\n"
     ]
    }
   ],
   "source": [
    "def myfunc():\n",
    "    \"This function will return list of 1st n natural numbers and there sum..\"\n",
    "    num_list = list(range(1,number+1))\n",
    "    sum_of_elements = 0\n",
    "    \n",
    "    for i in num_list:\n",
    "        sum_of_elements += i\n",
    "    \n",
    "    return num_list,sum_of_elements\n",
    "\n",
    "# Taking a number \n",
    "number = int(input(\"Enter a number: \"))\n",
    "\n",
    "# Function execution\n",
    "output = myfunc()\n",
    "\n",
    "print(\"The list of natural numbers: \",output[0])\n",
    "print(\"The sum of the natural numbers in the list: \",output[1])\n"
   ]
  },
  {
   "cell_type": "code",
   "execution_count": null,
   "id": "640ab800",
   "metadata": {},
   "outputs": [],
   "source": []
  },
  {
   "cell_type": "markdown",
   "id": "701915a3",
   "metadata": {},
   "source": [
    "#### 1.2 Write a Python program to implement your own myfilter() function which works exactly like Python's built-in function filter()"
   ]
  },
  {
   "cell_type": "code",
   "execution_count": 1,
   "id": "178485a8",
   "metadata": {},
   "outputs": [
    {
     "data": {
      "text/plain": [
       "[1, 2, 4]"
      ]
     },
     "execution_count": 1,
     "metadata": {},
     "output_type": "execute_result"
    }
   ],
   "source": [
    "def my_filter(function ,seq):\n",
    "    if function == None:\n",
    "        return seq\n",
    "    res = []\n",
    "    for i in seq:\n",
    "        if function(i):\n",
    "            res.append(i)\n",
    "    yield res \n",
    "\n",
    "\n",
    "def iseven(n):\n",
    "    if n % 2 == 0:\n",
    "        return True\n",
    "\n",
    "\n",
    "# check\n",
    "#my_filter(iseven,[1,2,3])\n",
    "#list(my_filter(iseven,[1,2,3]))\n",
    "filter(None,[1,2,4])\n",
    "list(filter(None,[1,2,4])) "
   ]
  },
  {
   "cell_type": "code",
   "execution_count": null,
   "id": "2baa1093",
   "metadata": {},
   "outputs": [],
   "source": []
  }
 ],
 "metadata": {
  "kernelspec": {
   "display_name": "Python 3",
   "language": "python",
   "name": "python3"
  },
  "language_info": {
   "codemirror_mode": {
    "name": "ipython",
    "version": 3
   },
   "file_extension": ".py",
   "mimetype": "text/x-python",
   "name": "python",
   "nbconvert_exporter": "python",
   "pygments_lexer": "ipython3",
   "version": "3.8.8"
  }
 },
 "nbformat": 4,
 "nbformat_minor": 5
}
