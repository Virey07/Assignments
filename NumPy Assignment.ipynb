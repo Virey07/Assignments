{
 "cells": [
  {
   "cell_type": "markdown",
   "id": "82898c11",
   "metadata": {},
   "source": [
    "Write a function so that the columns of the output matrix are powers of the input vector.\n",
    "\n",
    "The order of the powers is determined by the increasing boolean argument. Specifically, when increasing is False, the i-th output column is the input vector raised element-wise to the power of N - i - 1.\n",
    "\n",
    "HINT: Such a matrix with a geometric progression in each row is named for Alexandre-Theophile Vandermonde."
   ]
  },
  {
   "cell_type": "code",
   "execution_count": 7,
   "id": "0d7ddd34",
   "metadata": {},
   "outputs": [
    {
     "name": "stdout",
     "output_type": "stream",
     "text": [
      "[[ 4  2  1]\n",
      " [16  4  1]\n",
      " [36  6  1]]\n"
     ]
    }
   ],
   "source": [
    "import numpy as np\n",
    "def Vandermonde(arr,N):\n",
    "    a = np.array(arr)\n",
    "    o = np.column_stack([a**(N-k-1) for k in range(N)])\n",
    "    print(o)\n",
    "    \n",
    "Vandermonde([2,4,6],3)"
   ]
  },
  {
   "cell_type": "markdown",
   "id": "47819e39",
   "metadata": {},
   "source": [
    "Write a function to find moving average in an array over a window: Test it over [3, 5, 7, 2, 8, 10, 11, 65, 72, 81, 99, 100, 150] and window of 3"
   ]
  },
  {
   "cell_type": "code",
   "execution_count": 16,
   "id": "ab12d013",
   "metadata": {},
   "outputs": [
    {
     "name": "stdout",
     "output_type": "stream",
     "text": [
      "[  3.667   5.667   7.333   9.667  13.667  19.     26.     36.     45.333\n",
      "  56.     67.     81.333  92.     98.    102.    111.333]\n"
     ]
    }
   ],
   "source": [
    "def moving_avg(lst, num):\n",
    "    l = []\n",
    "    for i,_ in enumerate(lst):\n",
    "        a = i\n",
    "        b = i+num\n",
    "        if len(lst[a:b])<num:\n",
    "            break\n",
    "        l.append(lst[a:b])\n",
    "        avg = [np.array(l[i]).mean() for i in range(len(l))]\n",
    "    print(np.round_(avg,3))\n",
    "\n",
    "moving_avg([1,4,6,7,9,13,19,25,34,49,53,66,82,96,98,100,108,126],3)"
   ]
  },
  {
   "cell_type": "code",
   "execution_count": null,
   "id": "5001fa94",
   "metadata": {},
   "outputs": [],
   "source": []
  },
  {
   "cell_type": "code",
   "execution_count": null,
   "id": "479caefc",
   "metadata": {},
   "outputs": [],
   "source": []
  }
 ],
 "metadata": {
  "kernelspec": {
   "display_name": "Python 3",
   "language": "python",
   "name": "python3"
  },
  "language_info": {
   "codemirror_mode": {
    "name": "ipython",
    "version": 3
   },
   "file_extension": ".py",
   "mimetype": "text/x-python",
   "name": "python",
   "nbconvert_exporter": "python",
   "pygments_lexer": "ipython3",
   "version": "3.8.8"
  }
 },
 "nbformat": 4,
 "nbformat_minor": 5
}
